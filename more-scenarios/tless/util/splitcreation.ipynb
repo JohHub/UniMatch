{
 "cells": [
  {
   "cell_type": "code",
   "execution_count": 5,
   "id": "a4bbf0eb-283f-4570-bf4f-346187d09a93",
   "metadata": {},
   "outputs": [],
   "source": [
    "import os\n",
    "import glob\n",
    "import math\n",
    "import torch\n",
    "from torch.utils.data import random_split"
   ]
  },
  {
   "cell_type": "code",
   "execution_count": 14,
   "id": "9b35706f-bceb-41e0-8a9c-74ab52a1dd8e",
   "metadata": {},
   "outputs": [],
   "source": [
    "def save_to_txt(file_path, data_list, ds, ext):\n",
    "    with open(file_path, 'w') as f:\n",
    "        for item in sorted(data_list):\n",
    "            scene_id = os.path.basename(os.path.dirname(os.path.dirname(item)))\n",
    "            image_id = os.path.basename(item).split('.')[0]\n",
    "\n",
    "            \n",
    "            image_path = f\"{ds}/{scene_id}/rgb/{image_id}.{ext}\"\n",
    "            \n",
    "            mask_path = f\"{ds}_masks/{scene_id}/mask_visib/{image_id}.png\"\n",
    "            if ds == 'train_primesense':\n",
    "                mask_path = f\"{ds}/{scene_id}/mask_visib/{image_id}_000000.png\"\n",
    "            \n",
    "            f.write(f\"{image_path} {mask_path}\\n\")\n",
    "\n",
    "def generate_split_files(root, split):\n",
    "    datasets = ['train_pbr', 'train_primesense']\n",
    "    for ds in datasets:\n",
    "        if ds == \"train_pbr\":\n",
    "            full_size_train = 50000\n",
    "        elif ds == \"train_primesense\":\n",
    "            full_size_train = 37584\n",
    "        else:\n",
    "            raise ValueError(f'Invalid dataset: {ds}')\n",
    "\n",
    "        image_ext = \"jpg\" if ds == 'train_pbr' else \"png\"\n",
    "        ids = list(sorted(glob.glob(os.path.join(root, ds, \"*\", \"rgb\", \"*.\" + image_ext))))\n",
    "\n",
    "        indexes = range(full_size_train)\n",
    "        l_index, u_indexes = random_split(\n",
    "            dataset=indexes,\n",
    "            lengths=[split, 1 - split],\n",
    "            generator=torch.Generator().manual_seed(42)\n",
    "        )\n",
    "\n",
    "        labeled_ids = [ids[i] for i in l_index]\n",
    "        unlabeled_ids = [ids[i] for i in u_indexes]\n",
    "\n",
    "        # Create directories for saving the txt files if they don't exist\n",
    "        txt_dir = os.path.join(root, 'splits', '1_' + str(int(1/split)))\n",
    "        os.makedirs(txt_dir, exist_ok=True)\n",
    "        \n",
    "        labeled_txt_path = os.path.join(txt_dir, f\"{ds}_labeled.txt\")\n",
    "        unlabeled_txt_path = os.path.join(txt_dir, f\"{ds}_unlabeled.txt\")\n",
    "\n",
    "        save_to_txt(labeled_txt_path, labeled_ids, ds, image_ext)\n",
    "        save_to_txt(unlabeled_txt_path, unlabeled_ids, ds, image_ext)"
   ]
  },
  {
   "cell_type": "code",
   "execution_count": 23,
   "id": "b720c23d-dc13-4032-89de-bcbeb2a4864c",
   "metadata": {},
   "outputs": [],
   "source": [
    "root = '/' # insert root path\n",
    "split = 1/32\n",
    "\n",
    "generate_split_files(root, split)"
   ]
  },
  {
   "cell_type": "code",
   "execution_count": 25,
   "id": "35c11bba-b887-4822-9fc1-b00f5fc2d5d9",
   "metadata": {},
   "outputs": [],
   "source": [
    "root = '/' # insert root path\n",
    "txt_dir = os.path.join(root, 'splits')\n",
    "os.makedirs(txt_dir, exist_ok=True)\n",
    "# Handle validation dataset\n",
    "val_dataset = 'test_primesense'\n",
    "val_image_ext = \"png\"\n",
    "val_ids = list(sorted(glob.glob(os.path.join(root, val_dataset, \"*\", \"rgb\", \"*.\" + val_image_ext))))\n",
    "\n",
    "validation_txt_path = os.path.join(txt_dir, f\"{val_dataset}.txt\")\n",
    "save_to_txt(validation_txt_path, val_ids, val_dataset, val_image_ext)"
   ]
  },
  {
   "cell_type": "code",
   "execution_count": null,
   "id": "203544e6-278c-4cc0-8146-0a5ed23c797f",
   "metadata": {},
   "outputs": [],
   "source": []
  }
 ],
 "metadata": {
  "kernelspec": {
   "display_name": "Python 3 (ipykernel)",
   "language": "python",
   "name": "python3"
  },
  "language_info": {
   "codemirror_mode": {
    "name": "ipython",
    "version": 3
   },
   "file_extension": ".py",
   "mimetype": "text/x-python",
   "name": "python",
   "nbconvert_exporter": "python",
   "pygments_lexer": "ipython3",
   "version": "3.10.12"
  }
 },
 "nbformat": 4,
 "nbformat_minor": 5
}
